{
 "cells": [
  {
   "cell_type": "markdown",
   "id": "24936df3",
   "metadata": {},
   "source": [
    "write a function load_dengue_data(filename, key=\"gene symbol\"to load an excel file with multiple tabs and create a single dataframe merging the worksheets. It Only merge the "
   ]
  }
 ],
 "metadata": {
  "kernelspec": {
   "display_name": "Python 3 (ipykernel)",
   "language": "python",
   "name": "python3"
  },
  "language_info": {
   "codemirror_mode": {
    "name": "ipython",
    "version": 3
   },
   "file_extension": ".py",
   "mimetype": "text/x-python",
   "name": "python",
   "nbconvert_exporter": "python",
   "pygments_lexer": "ipython3",
   "version": "3.9.7"
  }
 },
 "nbformat": 4,
 "nbformat_minor": 5
}
